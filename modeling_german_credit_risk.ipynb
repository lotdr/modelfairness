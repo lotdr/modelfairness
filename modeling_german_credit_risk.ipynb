{
 "cells": [
  {
   "cell_type": "code",
   "execution_count": 17,
   "metadata": {},
   "outputs": [
    {
     "data": {
      "text/plain": [
       "{'limit_output': 20}"
      ]
     },
     "execution_count": 17,
     "metadata": {},
     "output_type": "execute_result"
    }
   ],
   "source": [
    "from notebook.services.config import ConfigManager\n",
    "\n",
    "ConfigManager().update('notebook', {'limit_output': 20})"
   ]
  },
  {
   "cell_type": "code",
   "execution_count": 2,
   "metadata": {},
   "outputs": [],
   "source": [
    "from IPython.display import Markdown, display\n",
    "import time\n",
    "import pickle\n",
    "\n",
    "import matplotlib.pyplot as plt\n",
    "%matplotlib inline\n",
    "\n",
    "from ipywidgets import interactive, FloatSlider\n",
    "\n",
    "\n",
    "#import sys\n",
    "#sys.path.append(\"../\")\n",
    "\n",
    "from tqdm import tqdm\n",
    "\n",
    "import pandas as pd \n",
    "import numpy as np\n",
    "import matplotlib.pyplot as plt\n",
    "import seaborn as sns \n",
    "#import missingno as msno\n",
    "\n",
    "import warnings\n",
    "warnings.filterwarnings('ignore')"
   ]
  },
  {
   "cell_type": "code",
   "execution_count": 3,
   "metadata": {},
   "outputs": [],
   "source": [
    "# import StandardScaler to transform to mean 0, standard deviation 1\n",
    "from sklearn.preprocessing import StandardScaler\n",
    "\n",
    "# import machine learning algorithms\n",
    "from sklearn.linear_model import LogisticRegression\n",
    "from xgboost import XGBClassifier\n",
    "from sklearn.model_selection import GridSearchCV\n",
    "\n",
    "from sklearn.metrics import accuracy_score, balanced_accuracy_score, f1_score"
   ]
  },
  {
   "cell_type": "markdown",
   "metadata": {},
   "source": [
    "## Load Dataframe"
   ]
  },
  {
   "cell_type": "code",
   "execution_count": 4,
   "metadata": {},
   "outputs": [
    {
     "data": {
      "text/html": [
       "<div>\n",
       "<style scoped>\n",
       "    .dataframe tbody tr th:only-of-type {\n",
       "        vertical-align: middle;\n",
       "    }\n",
       "\n",
       "    .dataframe tbody tr th {\n",
       "        vertical-align: top;\n",
       "    }\n",
       "\n",
       "    .dataframe thead th {\n",
       "        text-align: right;\n",
       "    }\n",
       "</style>\n",
       "<table border=\"1\" class=\"dataframe\">\n",
       "  <thead>\n",
       "    <tr style=\"text-align: right;\">\n",
       "      <th></th>\n",
       "      <th>Duration in month</th>\n",
       "      <th>Credit amount</th>\n",
       "      <th>Installment rate in percentage of disposable income</th>\n",
       "      <th>Present residence since</th>\n",
       "      <th>Number of existing credits at this bank</th>\n",
       "      <th>Number of people being liable to provide maintenance for</th>\n",
       "      <th>gender_male</th>\n",
       "      <th>marital_status_divorced/separated</th>\n",
       "      <th>marital_status_divorced/separated/married</th>\n",
       "      <th>marital_status_married/widowed</th>\n",
       "      <th>...</th>\n",
       "      <th>Housing_rent</th>\n",
       "      <th>Job_management/ highly qualified employee</th>\n",
       "      <th>Job_skilled employee / official</th>\n",
       "      <th>Job_unemployed/ unskilled  - non-resident</th>\n",
       "      <th>Job_unskilled - resident</th>\n",
       "      <th>Telephone_none</th>\n",
       "      <th>Telephone_yes</th>\n",
       "      <th>foreign worker_no</th>\n",
       "      <th>foreign worker_yes</th>\n",
       "      <th>good_risk</th>\n",
       "    </tr>\n",
       "  </thead>\n",
       "  <tbody>\n",
       "    <tr>\n",
       "      <th>0</th>\n",
       "      <td>6</td>\n",
       "      <td>1169</td>\n",
       "      <td>4</td>\n",
       "      <td>4</td>\n",
       "      <td>2</td>\n",
       "      <td>1</td>\n",
       "      <td>1</td>\n",
       "      <td>0</td>\n",
       "      <td>0</td>\n",
       "      <td>0</td>\n",
       "      <td>...</td>\n",
       "      <td>0</td>\n",
       "      <td>0</td>\n",
       "      <td>1</td>\n",
       "      <td>0</td>\n",
       "      <td>0</td>\n",
       "      <td>0</td>\n",
       "      <td>1</td>\n",
       "      <td>0</td>\n",
       "      <td>1</td>\n",
       "      <td>1</td>\n",
       "    </tr>\n",
       "    <tr>\n",
       "      <th>1</th>\n",
       "      <td>48</td>\n",
       "      <td>5951</td>\n",
       "      <td>2</td>\n",
       "      <td>2</td>\n",
       "      <td>1</td>\n",
       "      <td>1</td>\n",
       "      <td>0</td>\n",
       "      <td>0</td>\n",
       "      <td>1</td>\n",
       "      <td>0</td>\n",
       "      <td>...</td>\n",
       "      <td>0</td>\n",
       "      <td>0</td>\n",
       "      <td>1</td>\n",
       "      <td>0</td>\n",
       "      <td>0</td>\n",
       "      <td>1</td>\n",
       "      <td>0</td>\n",
       "      <td>0</td>\n",
       "      <td>1</td>\n",
       "      <td>0</td>\n",
       "    </tr>\n",
       "    <tr>\n",
       "      <th>2</th>\n",
       "      <td>12</td>\n",
       "      <td>2096</td>\n",
       "      <td>2</td>\n",
       "      <td>3</td>\n",
       "      <td>1</td>\n",
       "      <td>2</td>\n",
       "      <td>1</td>\n",
       "      <td>0</td>\n",
       "      <td>0</td>\n",
       "      <td>0</td>\n",
       "      <td>...</td>\n",
       "      <td>0</td>\n",
       "      <td>0</td>\n",
       "      <td>0</td>\n",
       "      <td>0</td>\n",
       "      <td>1</td>\n",
       "      <td>1</td>\n",
       "      <td>0</td>\n",
       "      <td>0</td>\n",
       "      <td>1</td>\n",
       "      <td>1</td>\n",
       "    </tr>\n",
       "    <tr>\n",
       "      <th>3</th>\n",
       "      <td>42</td>\n",
       "      <td>7882</td>\n",
       "      <td>2</td>\n",
       "      <td>4</td>\n",
       "      <td>1</td>\n",
       "      <td>2</td>\n",
       "      <td>1</td>\n",
       "      <td>0</td>\n",
       "      <td>0</td>\n",
       "      <td>0</td>\n",
       "      <td>...</td>\n",
       "      <td>0</td>\n",
       "      <td>0</td>\n",
       "      <td>1</td>\n",
       "      <td>0</td>\n",
       "      <td>0</td>\n",
       "      <td>1</td>\n",
       "      <td>0</td>\n",
       "      <td>0</td>\n",
       "      <td>1</td>\n",
       "      <td>1</td>\n",
       "    </tr>\n",
       "    <tr>\n",
       "      <th>4</th>\n",
       "      <td>24</td>\n",
       "      <td>4870</td>\n",
       "      <td>3</td>\n",
       "      <td>4</td>\n",
       "      <td>2</td>\n",
       "      <td>2</td>\n",
       "      <td>1</td>\n",
       "      <td>0</td>\n",
       "      <td>0</td>\n",
       "      <td>0</td>\n",
       "      <td>...</td>\n",
       "      <td>0</td>\n",
       "      <td>0</td>\n",
       "      <td>1</td>\n",
       "      <td>0</td>\n",
       "      <td>0</td>\n",
       "      <td>1</td>\n",
       "      <td>0</td>\n",
       "      <td>0</td>\n",
       "      <td>1</td>\n",
       "      <td>0</td>\n",
       "    </tr>\n",
       "  </tbody>\n",
       "</table>\n",
       "<p>5 rows × 63 columns</p>\n",
       "</div>"
      ],
      "text/plain": [
       "   Duration in month  Credit amount  \\\n",
       "0                  6           1169   \n",
       "1                 48           5951   \n",
       "2                 12           2096   \n",
       "3                 42           7882   \n",
       "4                 24           4870   \n",
       "\n",
       "   Installment rate in percentage of disposable income  \\\n",
       "0                                                  4     \n",
       "1                                                  2     \n",
       "2                                                  2     \n",
       "3                                                  2     \n",
       "4                                                  3     \n",
       "\n",
       "   Present residence since  Number of existing credits at this bank  \\\n",
       "0                        4                                        2   \n",
       "1                        2                                        1   \n",
       "2                        3                                        1   \n",
       "3                        4                                        1   \n",
       "4                        4                                        2   \n",
       "\n",
       "   Number of people being liable to provide maintenance for  gender_male  \\\n",
       "0                                                  1                   1   \n",
       "1                                                  1                   0   \n",
       "2                                                  2                   1   \n",
       "3                                                  2                   1   \n",
       "4                                                  2                   1   \n",
       "\n",
       "   marital_status_divorced/separated  \\\n",
       "0                                  0   \n",
       "1                                  0   \n",
       "2                                  0   \n",
       "3                                  0   \n",
       "4                                  0   \n",
       "\n",
       "   marital_status_divorced/separated/married  marital_status_married/widowed  \\\n",
       "0                                          0                               0   \n",
       "1                                          1                               0   \n",
       "2                                          0                               0   \n",
       "3                                          0                               0   \n",
       "4                                          0                               0   \n",
       "\n",
       "   ...  Housing_rent  Job_management/ highly qualified employee  \\\n",
       "0  ...             0                                          0   \n",
       "1  ...             0                                          0   \n",
       "2  ...             0                                          0   \n",
       "3  ...             0                                          0   \n",
       "4  ...             0                                          0   \n",
       "\n",
       "   Job_skilled employee / official  Job_unemployed/ unskilled  - non-resident  \\\n",
       "0                                1                                          0   \n",
       "1                                1                                          0   \n",
       "2                                0                                          0   \n",
       "3                                1                                          0   \n",
       "4                                1                                          0   \n",
       "\n",
       "   Job_unskilled - resident  Telephone_none  Telephone_yes  foreign worker_no  \\\n",
       "0                         0               0              1                  0   \n",
       "1                         0               1              0                  0   \n",
       "2                         1               1              0                  0   \n",
       "3                         0               1              0                  0   \n",
       "4                         0               1              0                  0   \n",
       "\n",
       "   foreign worker_yes  good_risk  \n",
       "0                   1          1  \n",
       "1                   1          0  \n",
       "2                   1          1  \n",
       "3                   1          1  \n",
       "4                   1          0  \n",
       "\n",
       "[5 rows x 63 columns]"
      ]
     },
     "execution_count": 4,
     "metadata": {},
     "output_type": "execute_result"
    }
   ],
   "source": [
    "\n",
    "df_new = pd.read_csv(\"german_credit_data_prepared.csv\")\n",
    "#cols_to_drop = [\"gender_male\", \"marital_status_divorced/separated\", \"marital_status_divorced/separated/married\",\n",
    "#                \"marital_status_married/widowed\", \"marital_status_single\"]\n",
    "#df_new.drop(cols_to_drop, axis=1, inplace=True)\n",
    "df_new.head()"
   ]
  },
  {
   "cell_type": "code",
   "execution_count": 5,
   "metadata": {},
   "outputs": [],
   "source": [
    "#y_col = \"good_risk\"\n",
    "y = df_new[\"good_risk\"]\n",
    "\n",
    "X = df_new[df_new.columns.drop(\"good_risk\")]"
   ]
  },
  {
   "cell_type": "code",
   "execution_count": 6,
   "metadata": {},
   "outputs": [],
   "source": [
    "from sklearn. model_selection import train_test_split\n",
    "\n",
    "X_train,X_test,y_train,y_test = train_test_split(X,y,test_size=0.2)"
   ]
  },
  {
   "cell_type": "code",
   "execution_count": 7,
   "metadata": {},
   "outputs": [
    {
     "data": {
      "text/markdown": [
       "#### Training Dataset shape"
      ],
      "text/plain": [
       "<IPython.core.display.Markdown object>"
      ]
     },
     "metadata": {},
     "output_type": "display_data"
    },
    {
     "name": "stdout",
     "output_type": "stream",
     "text": [
      "(800, 62)\n"
     ]
    },
    {
     "data": {
      "text/markdown": [
       "#### Testing Dataset shape"
      ],
      "text/plain": [
       "<IPython.core.display.Markdown object>"
      ]
     },
     "metadata": {},
     "output_type": "display_data"
    },
    {
     "name": "stdout",
     "output_type": "stream",
     "text": [
      "(200, 62)\n"
     ]
    }
   ],
   "source": [
    "display(Markdown(\"#### Training Dataset shape\"))\n",
    "print(X_train.shape)\n",
    "display(Markdown(\"#### Testing Dataset shape\"))\n",
    "print(X_test.shape)\n"
   ]
  },
  {
   "cell_type": "code",
   "execution_count": 8,
   "metadata": {},
   "outputs": [],
   "source": [
    "# Create training dataset by standardizing columns\n",
    "scaler = StandardScaler()\n",
    "\n",
    "# Fit and scale features in the training set\n",
    "X_train = scaler.fit_transform(X_train)\n",
    "#y_train = y_train.ravel()\n",
    "\n",
    "# Scale test data\n",
    "X_test = scaler.transform(X_test)\n",
    "#y_test = y_test.labels"
   ]
  },
  {
   "cell_type": "markdown",
   "metadata": {},
   "source": [
    "### Logistic Regression Model"
   ]
  },
  {
   "cell_type": "code",
   "execution_count": 9,
   "metadata": {},
   "outputs": [],
   "source": [
    "# Run Logistic Regression\n",
    "lrmod = LogisticRegression()\n",
    "model = lrmod.fit(X_train, y_train)"
   ]
  },
  {
   "cell_type": "code",
   "execution_count": 10,
   "metadata": {},
   "outputs": [],
   "source": [
    "y_train_pred = model.predict(X_train)\n",
    "y_pred = model.predict(X_test)"
   ]
  },
  {
   "cell_type": "code",
   "execution_count": 11,
   "metadata": {},
   "outputs": [
    {
     "data": {
      "text/markdown": [
       "### Results for the training dataset\n"
      ],
      "text/plain": [
       "<IPython.core.display.Markdown object>"
      ]
     },
     "metadata": {},
     "output_type": "display_data"
    },
    {
     "name": "stdout",
     "output_type": "stream",
     "text": [
      "\n",
      " confusion matrix training set\n",
      "[[124 116]\n",
      " [ 63 497]]\n",
      "\n",
      " accuracy score: 0.77625\n",
      "\n",
      " f1 score: 0.8473998294970162\n"
     ]
    },
    {
     "data": {
      "text/markdown": [
       "### Results for the test dataset\n"
      ],
      "text/plain": [
       "<IPython.core.display.Markdown object>"
      ]
     },
     "metadata": {},
     "output_type": "display_data"
    },
    {
     "name": "stdout",
     "output_type": "stream",
     "text": [
      "\n",
      " confusion matrix test set\n",
      "[[ 28  32]\n",
      " [ 23 117]]\n",
      "\n",
      " accuracy score: 0.725\n",
      "\n",
      " f1 score: 0.8096885813148789\n"
     ]
    }
   ],
   "source": [
    "from sklearn.metrics import confusion_matrix\n",
    "\n",
    "display(Markdown(\"### Results for the training dataset\\n\"))\n",
    "\n",
    "print('\\n confusion matrix training set')\n",
    "print(confusion_matrix(y_train, y_train_pred))\n",
    "print('\\n accuracy score:', accuracy_score(y_train, y_train_pred))\n",
    "print('\\n f1 score:', f1_score(y_train, y_train_pred))\n",
    "\n",
    "\n",
    "display(Markdown(\"### Results for the test dataset\\n\"))\n",
    "print('\\n confusion matrix test set')\n",
    "print(confusion_matrix(y_test, y_pred))\n",
    "print('\\n accuracy score:', accuracy_score(y_test, y_pred))\n",
    "print('\\n f1 score:', f1_score(y_test, y_pred))"
   ]
  },
  {
   "cell_type": "markdown",
   "metadata": {},
   "source": [
    "#### Uitleg metrics:\n",
    "<div>&nbsp;</div>\n",
    "<div>- Confusion matrix:</div>\n",
    "<div>&nbsp; &nbsp; Relatie weergeven tussen positieve en negatieve voorspellingen en de werkelijkheid:</div>\n",
    "<div>\n",
    "<table style=\"border-collapse: collapse; width: 44.0421%; height: 79px;\" border=\"1\">\n",
    "<tbody>\n",
    "<tr>\n",
    "<td style=\"width: 49.9021%;\">True Positive</td>\n",
    "<td style=\"width: 49.9021%;\">False Positive</td>\n",
    "</tr>\n",
    "<tr>\n",
    "<td style=\"width: 49.9021%;\">False Negative</td>\n",
    "<td style=\"width: 49.9021%;\">True Negative</td>\n",
    "</tr>\n",
    "</tbody>\n",
    "</table>\n",
    "&nbsp; &nbsp;</div>\n",
    "<div>- Accuracy score:</div>\n",
    "<div>&nbsp; &nbsp; Hoe vaak voorspelt het model correct?</div>\n",
    "<div>&nbsp;</div>\n",
    "<div>- F1 score:</div>\n",
    "<div>&nbsp; &nbsp; Gemiddelde van Precision en Recall:</div>\n",
    "<div style=\"padding-left: 40px;\">&nbsp; &nbsp; Precision: als het model positief voorspelt, hoe vaak is dit correct?</div>\n",
    "<div style=\"padding-left: 40px;\">&nbsp; &nbsp; Recall: Deel van de waarden dat juist is voorspeld.</div>\n",
    "<p><br /><br /></p>\n",
    "<div>&nbsp; &nbsp;</div>\n",
    "<p><br /><br /></p>"
   ]
  },
  {
   "cell_type": "markdown",
   "metadata": {},
   "source": [
    "### XGBoost Model"
   ]
  },
  {
   "cell_type": "code",
   "execution_count": 12,
   "metadata": {},
   "outputs": [],
   "source": [
    "#from xgboost import XGBClassifier\n",
    "from sklearn.model_selection import GridSearchCV\n",
    "\n",
    "estimator = XGBClassifier(base_score=0.7, eval_metric=\"error\", seed=1994)\n",
    "\n",
    "parameters = {'colsample_bytree': [0.1, 0.5, 1],\n",
    "              'min_child_weight': [5, 15, 25],\n",
    "              'learning_rate': [0.001, 0.05, 0.1, 0.2, 0.30],\n",
    "              'n_estimators': [10, 50, 100],\n",
    "              'max_depth':[2, 4, 6],\n",
    "              'gamma': [0, 0.001, 0.005]              \n",
    "             }\n",
    "\n",
    "\n",
    "grid_search = GridSearchCV(estimator=estimator,\n",
    "                           param_grid=parameters,\n",
    "                           scoring = 'balanced_accuracy',\n",
    "                           n_jobs = 1,\n",
    "                           cv = 10)"
   ]
  },
  {
   "cell_type": "code",
   "execution_count": 15,
   "metadata": {},
   "outputs": [
    {
     "name": "stdout",
     "output_type": "stream",
     "text": [
      "It took 12.30 minutes\n"
     ]
    }
   ],
   "source": [
    "tune_xgb_params = True\n",
    "\n",
    "# tune_xgb_params can be set to false, so no grid search will be performed in a next run\n",
    "#tune_xgb_params = False\n",
    "\n",
    "if tune_xgb_params:\n",
    "    start = time.time()\n",
    "    grid_search.fit(X_train, y_train)\n",
    "    end = time.time()\n",
    "    \n",
    "    xgbmod  = grid_search.best_estimator_\n",
    "    minutes= (end - start) /60\n",
    "    print( \"It took %.2f minutes\" % minutes)"
   ]
  },
  {
   "cell_type": "code",
   "execution_count": 25,
   "metadata": {},
   "outputs": [
    {
     "name": "stdout",
     "output_type": "stream",
     "text": [
      "XGBClassifier(base_score=0.7, booster='gbtree', callbacks=None,\n",
      "              colsample_bylevel=1, colsample_bynode=1, colsample_bytree=1,\n",
      "              early_stopping_rounds=None, enable_categorical=False,\n",
      "              eval_metric='error', gamma=0, gpu_id=-1, grow_policy='depthwise',\n",
      "              importance_type=None, interaction_constraints='',\n",
      "              learning_rate=0.2, max_bin=256, max_cat_to_onehot=4,\n",
      "              max_delta_step=0, max_depth=4, max_leaves=0, min_child_weight=5,\n",
      "              missing=nan, monotone_constraints='()', n_estimators=100,\n",
      "              n_jobs=0, num_parallel_tree=1, predictor='auto',\n",
      "              random_state=1994, reg_alpha=0, reg_lambda=1, ...)\n"
     ]
    }
   ],
   "source": [
    "print(xgbmod)"
   ]
  },
  {
   "cell_type": "code",
   "execution_count": 26,
   "metadata": {},
   "outputs": [
    {
     "data": {
      "text/plain": [
       "XGBClassifier(base_score=0.7, booster='gbtree', callbacks=None,\n",
       "              colsample_bylevel=1, colsample_bynode=1, colsample_bytree=1,\n",
       "              early_stopping_rounds=None, enable_categorical=False,\n",
       "              eval_metric='error', gamma=0, gpu_id=-1, grow_policy='depthwise',\n",
       "              importance_type=None, interaction_constraints='',\n",
       "              learning_rate=0.2, max_bin=256, max_cat_to_onehot=4,\n",
       "              max_delta_step=0, max_depth=4, max_leaves=0, min_child_weight=5,\n",
       "              missing=nan, monotone_constraints='()', n_estimators=100,\n",
       "              n_jobs=0, num_parallel_tree=1, predictor='auto',\n",
       "              random_state=1994, reg_alpha=0, reg_lambda=1, ...)"
      ]
     },
     "execution_count": 26,
     "metadata": {},
     "output_type": "execute_result"
    }
   ],
   "source": [
    "#copy paste the output from the previous cell, leave out 'None' values > will throw error\n",
    "#xgbmod = XGBClassifier(base_score=0.7, booster='gbtree', colsample_bylevel=1,\n",
    "              #colsample_bynode=1, colsample_bytree=0.5,\n",
    "              #enable_categorical=False, eval_metric='error', gamma=0, gpu_id=-1,\n",
    "              #importance_type=None, interaction_constraints='',\n",
    "              #learning_rate=0.3, max_delta_step=0, max_depth=2,\n",
    "              #min_child_weight=15, monotone_constraints='()',\n",
    "              #n_estimators=50, n_jobs=6, num_parallel_tree=1, predictor='auto',\n",
    "              #random_state=1994, reg_alpha=0, reg_lambda=1, scale_pos_weight=1,\n",
    "              #seed=1994, subsample=1, tree_method='exact',\n",
    "              #validate_parameters=1, verbosity=None)\n",
    "\n",
    "\n",
    "xgbmod.fit(X_train, y_train)"
   ]
  },
  {
   "cell_type": "code",
   "execution_count": 29,
   "metadata": {},
   "outputs": [],
   "source": [
    "xgb_y_train_pred = xgbmod.predict(X_train)"
   ]
  },
  {
   "cell_type": "code",
   "execution_count": 30,
   "metadata": {},
   "outputs": [],
   "source": [
    "xgb_y_test_pred = xgbmod.predict(X_test)"
   ]
  },
  {
   "cell_type": "code",
   "execution_count": 31,
   "metadata": {},
   "outputs": [
    {
     "data": {
      "text/markdown": [
       "### Results for the training dataset\n"
      ],
      "text/plain": [
       "<IPython.core.display.Markdown object>"
      ]
     },
     "metadata": {},
     "output_type": "display_data"
    },
    {
     "name": "stdout",
     "output_type": "stream",
     "text": [
      "\n",
      " confusion matrix training set\n",
      "[[194  46]\n",
      " [ 12 548]]\n",
      "\n",
      " accuracy score: 0.9275\n",
      "\n",
      " f1 score: 0.949740034662045\n"
     ]
    },
    {
     "data": {
      "text/markdown": [
       "### Results for the test dataset\n"
      ],
      "text/plain": [
       "<IPython.core.display.Markdown object>"
      ]
     },
     "metadata": {},
     "output_type": "display_data"
    },
    {
     "name": "stdout",
     "output_type": "stream",
     "text": [
      "\n",
      " confusion matrix test set\n",
      "[[ 31  29]\n",
      " [ 19 121]]\n",
      "\n",
      " accuracy score: 0.76\n",
      "\n",
      " f1 score: 0.8344827586206898\n"
     ]
    }
   ],
   "source": [
    "display(Markdown(\"### Results for the training dataset\\n\"))\n",
    "\n",
    "print('\\n confusion matrix training set')\n",
    "print(confusion_matrix(y_train, xgb_y_train_pred))\n",
    "print('\\n accuracy score:', accuracy_score(y_train, xgb_y_train_pred))\n",
    "print('\\n f1 score:', f1_score(y_train, xgb_y_train_pred))\n",
    "\n",
    "\n",
    "display(Markdown(\"### Results for the test dataset\\n\"))\n",
    "print('\\n confusion matrix test set')\n",
    "print(confusion_matrix(y_test, xgb_y_test_pred))\n",
    "print('\\n accuracy score:', accuracy_score(y_test, xgb_y_test_pred))\n",
    "print('\\n f1 score:', f1_score(y_test, xgb_y_test_pred))"
   ]
  },
  {
   "cell_type": "markdown",
   "metadata": {},
   "source": [
    "This results show that the XGB model is overfitting on the training dataset: the accuracy for the training set is 93% and the accuracy for the test set is 76%"
   ]
  },
  {
   "cell_type": "code",
   "execution_count": null,
   "metadata": {},
   "outputs": [],
   "source": []
  }
 ],
 "metadata": {
  "interpreter": {
   "hash": "030861eb78d561452af517b5230f59d3a869d047a468f1329556a66c7c522e42"
  },
  "kernelspec": {
   "display_name": "Python 3.9.6 64-bit ('3.9.6')",
   "language": "python",
   "name": "python3"
  },
  "language_info": {
   "codemirror_mode": {
    "name": "ipython",
    "version": 3
   },
   "file_extension": ".py",
   "mimetype": "text/x-python",
   "name": "python",
   "nbconvert_exporter": "python",
   "pygments_lexer": "ipython3",
   "version": "3.9.6"
  },
  "orig_nbformat": 4
 },
 "nbformat": 4,
 "nbformat_minor": 2
}
